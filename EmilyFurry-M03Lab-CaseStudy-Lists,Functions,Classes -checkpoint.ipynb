{
 "cells": [
  {
   "cell_type": "code",
   "execution_count": 2,
   "id": "ef8bd9bc",
   "metadata": {},
   "outputs": [
    {
     "name": "stdout",
     "output_type": "stream",
     "text": [
      "Input vehicle type: car\n",
      "Input vehicle year: 2004\n",
      "Input vehicle make: Ford\n",
      "Input vehicle model: Focus\n",
      "Input number of doors: 4\n",
      "Input vehicle roof type: solid\n",
      "Vehicle type: car\n",
      "Year: 2004\n",
      "Make: Ford\n",
      "Model: Focus\n",
      "Doors: 4\n",
      "Roof: solid\n"
     ]
    }
   ],
   "source": [
    "\n",
    "\n",
    "class Vehicle():\n",
    "    # Check if vt is in vts. Else, it forces the user to retry.\n",
    "    vts = (\"car\", \"truck\", \"plane\", \"boat\", \"broomstick\")\n",
    "    global vt\n",
    "    vt = input(\"Input vehicle type: \")\n",
    "    if vt not in vts:\n",
    "        print(\"Invalid vehicle type.\")\n",
    "        vt = input(\"Input vehicle type: \")\n",
    "\n",
    "    class Automobile():\n",
    "        year = input(\"Input vehicle year: \")\n",
    "        make = input(\"Input vehicle make: \")\n",
    "        model = input(\"Input vehicle model: \")\n",
    "        doors = input(\"Input number of doors: \")\n",
    "\n",
    "        rooves = (\"solid\", \"sun roof\")\n",
    "\n",
    "        roof = input(\"Input vehicle roof type: \")\n",
    "        if roof not in rooves:\n",
    "            print(\"Invalid roof type.\")\n",
    "            roof = input(\"Input vehicle roof type: \")\n",
    "\n",
    "        vt_dict = {\n",
    "            \"Vehicle type\": vt,\n",
    "            \"Year\": year,\n",
    "            \"Make\": make,\n",
    "            \"Model\": model,\n",
    "            \"Doors\": doors, \n",
    "            \"Roof\": roof\n",
    "        }\n",
    "        for i in vt_dict:\n",
    "            print(i + \": \" + vt_dict[i])\n"
   ]
  },
  {
   "cell_type": "code",
   "execution_count": null,
   "id": "4aabde8f",
   "metadata": {},
   "outputs": [],
   "source": []
  }
 ],
 "metadata": {
  "kernelspec": {
   "display_name": "Python 3 (ipykernel)",
   "language": "python",
   "name": "python3"
  },
  "language_info": {
   "codemirror_mode": {
    "name": "ipython",
    "version": 3
   },
   "file_extension": ".py",
   "mimetype": "text/x-python",
   "name": "python",
   "nbconvert_exporter": "python",
   "pygments_lexer": "ipython3",
   "version": "3.10.9"
  }
 },
 "nbformat": 4,
 "nbformat_minor": 5
}
