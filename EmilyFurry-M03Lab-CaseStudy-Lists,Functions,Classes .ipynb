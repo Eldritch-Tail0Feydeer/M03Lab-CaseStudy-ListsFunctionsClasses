{
 "cells": [
  {
   "cell_type": "code",
   "execution_count": 3,
   "id": "ef8bd9bc",
   "metadata": {},
   "outputs": [
    {
     "name": "stdout",
     "output_type": "stream",
     "text": [
      "Input vehicle type: car\n",
      "Input vehicle year: 2022\n",
      "Input vehicle make: Toyota\n",
      "Input vehicle model: Corolla\n",
      "Input number of doors: 4\n",
      "Input vehicle roof type: sun roof\n",
      "Vehicle type: car\n",
      "Year: 2022\n",
      "Make: Toyota\n",
      "Model: Corolla\n",
      "Doors: 4\n",
      "Roof: sun roof\n"
     ]
    }
   ],
   "source": [
    "class Vehicle():\n",
    "    # Check if vt is in vts. Else, it forces the user to retry.\n",
    "    vts = (\"car\", \"truck\", \"plane\", \"boat\", \"broomstick\")\n",
    "    global vt\n",
    "    vt = input(\"Input vehicle type: \")\n",
    "    if vt not in vts:\n",
    "        print(\"Invalid vehicle type.\")\n",
    "        vt = input(\"Input vehicle type: \")\n",
    "\n",
    "    class Automobile():\n",
    "        year = input(\"Input vehicle year: \")\n",
    "        make = input(\"Input vehicle make: \")\n",
    "        model = input(\"Input vehicle model: \")\n",
    "        doors = input(\"Input number of doors: \")\n",
    "\n",
    "        rooves = (\"solid\", \"sun roof\")\n",
    "\n",
    "        roof = input(\"Input vehicle roof type: \")\n",
    "        if roof not in rooves:\n",
    "            print(\"Invalid roof type.\")\n",
    "            roof = input(\"Input vehicle roof type: \")\n",
    "\n",
    "        vt_dict = {\n",
    "            \"Vehicle type\": vt,\n",
    "            \"Year\": year,\n",
    "            \"Make\": make,\n",
    "            \"Model\": model,\n",
    "            \"Doors\": doors, \n",
    "            \"Roof\": roof\n",
    "        }\n",
    "        for i in vt_dict:\n",
    "            print(i + \": \" + vt_dict[i])\n"
   ]
  },
  {
   "cell_type": "code",
   "execution_count": null,
   "id": "4aabde8f",
   "metadata": {},
   "outputs": [],
   "source": []
  }
 ],
 "metadata": {
  "kernelspec": {
   "display_name": "Python 3 (ipykernel)",
   "language": "python",
   "name": "python3"
  },
  "language_info": {
   "codemirror_mode": {
    "name": "ipython",
    "version": 3
   },
   "file_extension": ".py",
   "mimetype": "text/x-python",
   "name": "python",
   "nbconvert_exporter": "python",
   "pygments_lexer": "ipython3",
   "version": "3.10.9"
  }
 },
 "nbformat": 4,
 "nbformat_minor": 5
}
